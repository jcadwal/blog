{
  "cells": [
    {
      "cell_type": "markdown",
      "metadata": {
        "id": "pDOTYTDjuLDi",
        "colab_type": "text"
      },
      "source": [
        "# How many samples are necessary to estimate agreement between two neural networks as a function of their parameter count\n",
        "\n",
        "1. One definition of NN agreement is just the average difference between two NNs on all inputs. Call this $D_{true}$.\n",
        "2. Estimate $D_{true}$ with a sample of size N. How many samples until $D_{true} - D_{sample} \\lt \\epsilon$ for some small $\\epsilon$?\n",
        "3. How does the number of samples depend on N, the number of parameters in the network?\n",
        "\n",
        "\n",
        "Experiment:\n",
        "1. For $P=\\{10,100,1000\\}$:\n",
        "2. Take \"true\" $D$ as $D_{1e9}$\n",
        "3. Start at $S=10$\n",
        "4. For $30$ trials at $S=10$ compute variance between $D_{sample}$ and $D_{true}$ as ${1\\over30}\\sum{|D_{true}-D_{sample}|}$\n",
        "5. If variance below $0.015$ accept $S$ as large enough sample for good estimate.\n",
        "6. If variance too large increase number of samples and GOTO 4.\n",
        "7. Plot number of parameters versus sufficient sample size.\n",
        "8. Say something vaguely informative about the dependency between number of parameters and number of sufficient samples.\n"
      ]
    },
    {
      "cell_type": "markdown",
      "metadata": {
        "id": "X7-tDa8p8oxh",
        "colab_type": "text"
      },
      "source": [
        "### Estimate number of samples to estimate f-distance"
      ]
    },
    {
      "cell_type": "code",
      "metadata": {
        "id": "WGvaC5Gu8smF",
        "colab_type": "code",
        "colab": {
          "base_uri": "https://localhost:8080/",
          "height": 799
        },
        "outputId": "494b4c82-cbe5-4d75-b851-51b766c06179"
      },
      "source": [
        "import tensorflow as tf\n",
        "import numpy as np\n",
        "import itertools\n",
        "import matplotlib.pyplot as plt\n",
        "\n",
        "\n",
        "\n",
        "N = 10\n",
        "param_to_size = {}\n",
        "for size in [10, 100, 1000, 5000, 10000]:  \n",
        "  \n",
        "  # 1. create nns \n",
        "  nn1 = tf.keras.Sequential([    \n",
        "      tf.keras.layers.Dense(size, input_shape=(N,), activation='tanh',kernel_initializer='random_normal'),\n",
        "      # tf.keras.layers.Dense(10, activation='tanh',kernel_initializer='random_normal'),    \n",
        "      tf.keras.layers.Dense(1,activation='tanh',kernel_initializer='random_normal')\n",
        "  ])\n",
        "  nn2 = tf.keras.Sequential([    \n",
        "      tf.keras.layers.Dense(size, input_shape=(N,), activation='tanh',kernel_initializer='random_normal'),\n",
        "      # tf.keras.layers.Dense(10, activation='tanh',kernel_initializer='random_normal'),    \n",
        "      tf.keras.layers.Dense(1,activation='tanh',kernel_initializer='random_normal')\n",
        "  ])\n",
        "\n",
        "\n",
        "  num_params = nn1.count_params()\n",
        "\n",
        "  print(\"(size,num_params) \", size,num_params)\n",
        "\n",
        "  # 2. calculate \"true\" D\n",
        "  ds = 0.\n",
        "  for _ in range(10):\n",
        "    inpt = tf.random.uniform(shape=(100000,N),minval=-1.,maxval=1.)\n",
        "    ds += tf.math.reduce_mean(tf.abs(nn1(inpt)-nn2(inpt))).numpy()\n",
        "  D_true = ds/10.\n",
        "  print(\"D_true: \",D_true)\n",
        "\n",
        "\n",
        " \n",
        "\n",
        "  # 3. Increase number of samples, record best sample size\n",
        "  estimated_Ds = []\n",
        "  for S in (10, 20, 40, 80, 1000, 2000, 4000, 8000, 16000, 32000, 64000, 128000, 256000, 512000):  \n",
        "    for trial in range(30):\n",
        "      if S>64000: #avoid OOM\n",
        "        ds = 0.\n",
        "        s = 0. # total samples\n",
        "        while s*10000<S:\n",
        "          inpt = tf.random.uniform(shape=(10000,N),minval=-1.,maxval=1.)\n",
        "          ds += tf.math.reduce_mean(tf.abs(nn1(inpt)-nn2(inpt))).numpy()\n",
        "          s+=1\n",
        "        D_sample = ds/s\n",
        "        estimated_Ds.append(D_sample)\n",
        "        S=s*10000\n",
        "      else:\n",
        "        inpt = tf.random.uniform(shape=(S,N,),minval=-1.,maxval=1.)\n",
        "        D_sample = tf.math.reduce_mean(tf.abs(nn1(inpt)-nn2(inpt)))\n",
        "        estimated_Ds.append(D_sample.numpy())\n",
        "    # Compute variance from D_true\n",
        "    variance = tf.math.reduce_mean(tf.abs(D_true - tf.constant(estimated_Ds)))\n",
        "    print(S,variance)\n",
        "\n",
        "    if variance<=0.015:\n",
        "      param_to_size[num_params]=S\n",
        "      break\n",
        "\n",
        "\n",
        "\n",
        "#4. Graph param_to_size\n",
        "print(param_to_size)\n"
      ],
      "execution_count": 9,
      "outputs": [
        {
          "output_type": "stream",
          "text": [
            "(size,num_params)  10 121\n",
            "D_true:  0.011641139443963767\n",
            "10 tf.Tensor(0.0021724165, shape=(), dtype=float32)\n",
            "(size,num_params)  100 1201\n",
            "D_true:  0.04434277601540089\n",
            "10 tf.Tensor(0.0080988705, shape=(), dtype=float32)\n",
            "(size,num_params)  1000 12001\n",
            "D_true:  0.14086441099643707\n",
            "10 tf.Tensor(0.026470756, shape=(), dtype=float32)\n",
            "20 tf.Tensor(0.023881901, shape=(), dtype=float32)\n",
            "40 tf.Tensor(0.019861536, shape=(), dtype=float32)\n",
            "80 tf.Tensor(0.017873464, shape=(), dtype=float32)\n",
            "1000 tf.Tensor(0.01490444, shape=(), dtype=float32)\n",
            "(size,num_params)  5000 60001\n",
            "D_true:  0.39552541375160216\n",
            "10 tf.Tensor(0.06404079, shape=(), dtype=float32)\n",
            "20 tf.Tensor(0.058642227, shape=(), dtype=float32)\n",
            "40 tf.Tensor(0.04897007, shape=(), dtype=float32)\n",
            "80 tf.Tensor(0.043159295, shape=(), dtype=float32)\n",
            "1000 tf.Tensor(0.035777654, shape=(), dtype=float32)\n",
            "2000 tf.Tensor(0.03051522, shape=(), dtype=float32)\n",
            "4000 tf.Tensor(0.026691388, shape=(), dtype=float32)\n",
            "8000 tf.Tensor(0.023696695, shape=(), dtype=float32)\n",
            "16000 tf.Tensor(0.021255244, shape=(), dtype=float32)\n",
            "32000 tf.Tensor(0.019242465, shape=(), dtype=float32)\n",
            "64000 tf.Tensor(0.017562512, shape=(), dtype=float32)\n",
            "130000.0 tf.Tensor(0.016151616, shape=(), dtype=float32)\n",
            "260000.0 tf.Tensor(0.014943904, shape=(), dtype=float32)\n",
            "(size,num_params)  10000 120001\n",
            "D_true:  0.3966974675655365\n",
            "10 tf.Tensor(0.07127687, shape=(), dtype=float32)\n",
            "20 tf.Tensor(0.056238253, shape=(), dtype=float32)\n",
            "40 tf.Tensor(0.048281457, shape=(), dtype=float32)\n",
            "80 tf.Tensor(0.042923193, shape=(), dtype=float32)\n",
            "1000 tf.Tensor(0.036240686, shape=(), dtype=float32)\n",
            "2000 tf.Tensor(0.031020114, shape=(), dtype=float32)\n",
            "4000 tf.Tensor(0.02715591, shape=(), dtype=float32)\n",
            "8000 tf.Tensor(0.024093714, shape=(), dtype=float32)\n",
            "16000 tf.Tensor(0.021619285, shape=(), dtype=float32)\n",
            "32000 tf.Tensor(0.019553171, shape=(), dtype=float32)\n",
            "64000 tf.Tensor(0.01788241, shape=(), dtype=float32)\n",
            "130000.0 tf.Tensor(0.016446002, shape=(), dtype=float32)\n",
            "260000.0 tf.Tensor(0.0152104255, shape=(), dtype=float32)\n",
            "520000.0 tf.Tensor(0.01414453, shape=(), dtype=float32)\n",
            "{121: 10, 1201: 10, 12001: 1000, 60001: 260000.0, 120001: 520000.0}\n"
          ],
          "name": "stdout"
        }
      ]
    },
    {
      "cell_type": "markdown",
      "metadata": {
        "id": "yxgxA6SbrCc6",
        "colab_type": "text"
      },
      "source": [
        "#Plot results and eyeball trend"
      ]
    },
    {
      "cell_type": "code",
      "metadata": {
        "id": "8AP4JkqrrG9w",
        "colab_type": "code",
        "colab": {
          "base_uri": "https://localhost:8080/",
          "height": 286
        },
        "outputId": "2c5d7ec1-0b3e-4d6f-e8d7-b9f664dd9012"
      },
      "source": [
        "xs = list(param_to_size.keys())\n",
        "ys = list(param_to_size.values())\n",
        "plt.xlim(0,600000)\n",
        "plt.ylim(0,600000)\n",
        "plt.plot(xs,ys,)"
      ],
      "execution_count": 12,
      "outputs": [
        {
          "output_type": "execute_result",
          "data": {
            "text/plain": [
              "[<matplotlib.lines.Line2D at 0x7f605e57c240>]"
            ]
          },
          "metadata": {
            "tags": []
          },
          "execution_count": 12
        },
        {
          "output_type": "display_data",
          "data": {
            "image/png": "[encoded data removed]",
            "text/plain": [
              "<Figure size 432x288 with 1 Axes>"
            ]
          },
          "metadata": {
            "tags": [],
            "needs_background": "light"
          }
        }
      ]
    },
    {
      "cell_type": "markdown",
      "metadata": {
        "id": "sNqf5gRAtTRI",
        "colab_type": "text"
      },
      "source": [
        "It would appear that as the two networks increase in size the number of samples necessary to accurately estimate the distance between increases \"exponentially\". ?"
      ]
    }
  ],
  "metadata": {
    "colab": {
      "name": "blog - Samples necessary to estimate NN agreement ",
      "provenance": [],
      "collapsed_sections": [
        "HlqzNamF8hUT"
      ]
    },
    "kernelspec": {
      "name": "python3",
      "display_name": "Python 3"
    }
  },
  "nbformat": 4,
  "nbformat_minor": 0
}