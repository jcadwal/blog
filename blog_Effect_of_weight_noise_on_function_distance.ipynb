{
  "nbformat": 4,
  "nbformat_minor": 0,
  "metadata": {
    "colab": {
      "name": "blog - Effect of weight noise on function distance",
      "provenance": [],
      "collapsed_sections": []
    },
    "kernelspec": {
      "name": "python3",
      "display_name": "Python 3"
    }
  },
  "cells": [
    {
      "cell_type": "markdown",
      "metadata": {
        "id": "ZiM3bDORbvlH",
        "colab_type": "text"
      },
      "source": [
        "#Effect of noise in function distance\n",
        "\n",
        "Experiment:\n",
        "1. Define noise intensity as scalar applied to uniform random noise vector\n",
        "2. Using sufficiently large sample size, estimate function distance between original network and network with weight noise.\n",
        "3. Plot as function of intensity of noise"
      ]
    },
    {
      "cell_type": "markdown",
      "metadata": {
        "id": "BMdNmaCQ3zwF",
        "colab_type": "text"
      },
      "source": [
        "##Imports"
      ]
    },
    {
      "cell_type": "code",
      "metadata": {
        "id": "pRKVSIyq3wPw",
        "colab_type": "code",
        "colab": {}
      },
      "source": [
        "import numpy as np\n",
        "import matplotlib.pyplot as plt\n",
        "import tensorflow as tf\n",
        "import math\n",
        "import random\n",
        "N=10 #input dimension"
      ],
      "execution_count": 1,
      "outputs": []
    },
    {
      "cell_type": "markdown",
      "metadata": {
        "id": "0Tki0R2n25rz",
        "colab_type": "text"
      },
      "source": [
        "## Expected function distance for random neural networks"
      ]
    },
    {
      "cell_type": "code",
      "metadata": {
        "id": "bxpBVkn32-Y8",
        "colab_type": "code",
        "colab": {
          "base_uri": "https://localhost:8080/",
          "height": 499
        },
        "outputId": "465af3be-a9e2-4a9c-c235-d117688de74e"
      },
      "source": [
        "data = []\n",
        "\n",
        "for TRIAL in range(1000):\n",
        "\n",
        "  nn1 = tf.keras.Sequential([    \n",
        "    tf.keras.layers.Dense(16, input_shape=(N,), activation='tanh'),\n",
        "    tf.keras.layers.Dense(16, activation='tanh'),      \n",
        "    tf.keras.layers.Dense(1, activation='tanh')\n",
        "  ])\n",
        "\n",
        "  nn2 = tf.keras.Sequential([    \n",
        "    tf.keras.layers.Dense(16, input_shape=(N,), activation='tanh'),\n",
        "    tf.keras.layers.Dense(16, activation='tanh'),      \n",
        "    tf.keras.layers.Dense(1, activation='tanh')\n",
        "  ])\n",
        "\n",
        "  # compute f_distance\n",
        "  fd = 0.\n",
        "  for _ in range(10):\n",
        "    inpt = tf.random.uniform(shape=(1000,N),minval=-1.,maxval=1.)\n",
        "    fd += tf.math.reduce_mean(tf.abs(nn1(inpt)-nn2(inpt))).numpy()\n",
        "  fd = fd/10.\n",
        "  data.append(fd)\n",
        "\n",
        "\n",
        "\n",
        "fig1, ax1 = plt.subplots(figsize=(8,8))\n",
        "ax1.set_title('Distribution of function distances')\n",
        "ax1.hist(data,bins=30)\n",
        "plt.show()\n",
        "\n",
        "\n"
      ],
      "execution_count": 3,
      "outputs": [
        {
          "output_type": "display_data",
          "data": {
            "image/png": "[encoded data removed]",
            "text/plain": [
              "<Figure size 576x576 with 1 Axes>"
            ]
          },
          "metadata": {
            "tags": [],
            "needs_background": "light"
          }
        }
      ]
    },
    {
      "cell_type": "markdown",
      "metadata": {
        "id": "4bn5pP_jGIo0",
        "colab_type": "text"
      },
      "source": [
        "### Expected \"function\" distance for uniform random vectors"
      ]
    },
    {
      "cell_type": "code",
      "metadata": {
        "id": "gV2SkfCsGMHZ",
        "colab_type": "code",
        "colab": {
          "base_uri": "https://localhost:8080/",
          "height": 499
        },
        "outputId": "543cf8d4-90c9-4d29-bc36-5b2db7ca81a9"
      },
      "source": [
        "data = []\n",
        "\n",
        "for TRIAL in range(1000):\n",
        "\n",
        "  v1 = tf.random.uniform(shape=(1000,1),minval=-1.,maxval=1.)\n",
        "  v2 = tf.random.uniform(shape=(1000,1),minval=-1.,maxval=1.)\n",
        "  \n",
        "    \n",
        "  # compute f_distance\n",
        "  fd = tf.math.reduce_mean(tf.abs(v1-v2)).numpy()\n",
        "  data.append(fd)\n",
        "\n",
        "\n",
        "\n",
        "fig1, ax1 = plt.subplots(figsize=(8,8))\n",
        "ax1.set_title('Distribution of function distances')\n",
        "ax1.hist(data,bins=30)\n",
        "plt.show()"
      ],
      "execution_count": 2,
      "outputs": [
        {
          "output_type": "display_data",
          "data": {
            "image/png": "[encoded data removed]",
            "text/plain": [
              "<Figure size 576x576 with 1 Axes>"
            ]
          },
          "metadata": {
            "tags": [],
            "needs_background": "light"
          }
        }
      ]
    },
    {
      "cell_type": "markdown",
      "metadata": {
        "id": "v4Ugf7BR3ABX",
        "colab_type": "text"
      },
      "source": [
        "##Main experiment"
      ]
    },
    {
      "cell_type": "code",
      "metadata": {
        "id": "ZolHq-b-bpAu",
        "colab_type": "code",
        "colab": {
          "base_uri": "https://localhost:8080/",
          "height": 157
        },
        "outputId": "5c33f519-4c46-4d45-f3f6-421fcdf73914"
      },
      "source": [
        "data = {}\n",
        "\n",
        "for NOISE_INTENSITY in (1e-4, 1e-3, 1e-2, 1e-1, 1, 10, 100):\n",
        "\n",
        "  data[NOISE_INTENSITY] = []\n",
        "\n",
        "  for TRIAL in range(10):\n",
        "\n",
        "    # create \"original\" network\n",
        "    orig = tf.keras.Sequential([    \n",
        "      tf.keras.layers.Dense(16, input_shape=(N,), activation='tanh'),\n",
        "      tf.keras.layers.Dense(16, activation='tanh'),      \n",
        "      tf.keras.layers.Dense(1, activation='tanh')\n",
        "    ])\n",
        "\n",
        "    # create noised network based on original\n",
        "    noised = tf.keras.Sequential([    \n",
        "      tf.keras.layers.Dense(16, input_shape=(N,), activation='tanh'),\n",
        "      tf.keras.layers.Dense(16, activation='tanh'),      \n",
        "      tf.keras.layers.Dense(1, activation='tanh')\n",
        "    ])\n",
        "\n",
        "    \n",
        "    # copy and noise weights\n",
        "    for layer_o, layer_n in zip(orig.layers, noised.layers):\n",
        "      weights = layer_o.get_weights()\n",
        "      weights_noise = NOISE_INTENSITY * tf.random.uniform(weights[0].shape,-1.,1.)\n",
        "      biases_noise = NOISE_INTENSITY * tf.random.uniform(weights[1].shape,-1.,1.)\n",
        "      layer_n.set_weights([weights[0]+weights_noise, weights[1]+biases_noise])\n",
        "\n",
        "\n",
        "    # compute f_distance\n",
        "    fd = 0.\n",
        "    for _ in range(10):\n",
        "      inpt = tf.random.uniform(shape=(100000,N),minval=-1.,maxval=1.)\n",
        "      fd += tf.math.reduce_mean(tf.abs(orig(inpt)-noised(inpt))).numpy()\n",
        "    D_true = fd/10.\n",
        "    data[NOISE_INTENSITY].append(D_true)\n",
        "\n",
        "\n",
        "for k,v in data.items():\n",
        "  print(k,v)\n",
        "    \n",
        "\n",
        "\n",
        "\n"
      ],
      "execution_count": null,
      "outputs": [
        {
          "output_type": "stream",
          "text": [
            "0.0001 [0.0001226428197696805, 0.00013065542880212887, 0.00012362972047412767, 0.00016592800529906525, 9.763232010300271e-05, 8.574941894039512e-05, 0.00010732695373008027, 0.00013001488259760662, 0.0001145867892773822, 0.00013358302239794285]\n",
            "0.001 [0.0012826744816266, 0.0015583137632347644, 0.0008257073757704347, 0.0017300807288847865, 0.0008815642911940813, 0.0006608328782022, 0.0015909424051642417, 0.0010293586528860033, 0.0010947178932838141, 0.0017213757964782417]\n",
            "0.01 [0.011602269485592842, 0.012412705086171627, 0.01507028704509139, 0.012335388455539942, 0.011611186992377042, 0.013962646201252937, 0.015513132233172655, 0.009791538026183844, 0.013036161940544844, 0.016461532190442087]\n",
            "0.1 [0.18516926765441893, 0.12655843198299407, 0.09482134655117988, 0.1100421242415905, 0.16305763721466066, 0.12774345874786378, 0.13991475701332093, 0.12244767844676971, 0.10834314078092575, 0.12812724560499192]\n",
            "1 [0.7634418547153473, 0.8455724596977234, 0.7157146215438843, 0.8060637712478638, 0.7860991954803467, 0.8289853572845459, 0.8516426086425781, 0.6081823110580444, 0.794157063961029, 0.8441681802272797]\n",
            "10 [0.9546764254570007, 0.9865279138088227, 0.9708833992481232, 1.036880099773407, 0.8965245842933655, 0.966617101430893, 1.0094862222671508, 1.027210819721222, 0.9682652175426483, 1.0022102117538452]\n",
            "100 [0.9609472036361695, 0.9647999823093414, 0.969472098350525, 0.9664019823074341, 1.0698521494865418, 1.1552225947380066, 0.9854343295097351, 1.001291036605835, 1.0470627784729003, 0.9282243251800537]\n"
          ],
          "name": "stdout"
        }
      ]
    },
    {
      "cell_type": "markdown",
      "metadata": {
        "id": "fnNUN8Jwx1W9",
        "colab_type": "text"
      },
      "source": [
        "###Plot result"
      ]
    },
    {
      "cell_type": "code",
      "metadata": {
        "id": "NqN0tf9-xQ2W",
        "colab_type": "code",
        "colab": {
          "base_uri": "https://localhost:8080/",
          "height": 499
        },
        "outputId": "b669ce55-7cd0-4525-9b58-2ab7e6782bed"
      },
      "source": [
        "fig1, ax1 = plt.subplots(figsize=(8,8))\n",
        "ax1.set_title('Function distance versus noise intensity')\n",
        "ax1.boxplot(data.values())\n",
        "plt.show()"
      ],
      "execution_count": null,
      "outputs": [
        {
          "output_type": "display_data",
          "data": {
            "image/png": "[encoded data removed]",
            "text/plain": [
              "<Figure size 576x576 with 1 Axes>"
            ]
          },
          "metadata": {
            "tags": [],
            "needs_background": "light"
          }
        }
      ]
    },
    {
      "cell_type": "markdown",
      "metadata": {
        "id": "hCIbCH-tx9Uj",
        "colab_type": "text"
      },
      "source": [
        "## Visualize sample outputs\n"
      ]
    },
    {
      "cell_type": "code",
      "metadata": {
        "id": "ZRT1VRyoyCsA",
        "colab_type": "code",
        "colab": {
          "base_uri": "https://localhost:8080/",
          "height": 612
        },
        "outputId": "ebb18378-ea9a-40d7-b2a8-5ba48f15b479"
      },
      "source": [
        "# create \"original\" network\n",
        "orig = tf.keras.Sequential([    \n",
        "  tf.keras.layers.Dense(16, input_shape=(N,), activation='tanh'),\n",
        "  tf.keras.layers.Dense(16, activation='tanh'),      \n",
        "  tf.keras.layers.Dense(1, activation='tanh')\n",
        "])\n",
        "\n",
        "# create noised network based on original\n",
        "noised = tf.keras.Sequential([    \n",
        "  tf.keras.layers.Dense(16, input_shape=(N,), activation='tanh'),\n",
        "  tf.keras.layers.Dense(16, activation='tanh'),      \n",
        "  tf.keras.layers.Dense(1, activation='tanh')\n",
        "])\n",
        "\n",
        "\n",
        "NOISE_INTENSITY = 5e-1\n",
        "# copy and noise weights\n",
        "for layer_o, layer_n in zip(orig.layers, noised.layers):\n",
        "  weights = layer_o.get_weights()\n",
        "  weights_noise = NOISE_INTENSITY * tf.random.uniform(weights[0].shape,-1.,1.)\n",
        "  biases_noise = NOISE_INTENSITY * tf.random.uniform(weights[1].shape,-1.,1.)\n",
        "  layer_n.set_weights([weights[0]+weights_noise, weights[1]+biases_noise])  \n",
        "  # layer_n.set_weights([weights_noise, biases_noise])\n",
        "\n",
        "\n",
        "SAMPLE_SIZE=16\n",
        "fig, axes = plt.subplots(2,2,figsize=(10,10))\n",
        "inpt = tf.random.uniform(shape=(SAMPLE_SIZE*SAMPLE_SIZE,N),minval=-1.,maxval=1.)\n",
        "axes[0][0].matshow(orig(inpt).numpy().reshape((SAMPLE_SIZE,SAMPLE_SIZE)))\n",
        "axes[0][1].matshow(noised(inpt).numpy().reshape((SAMPLE_SIZE,SAMPLE_SIZE)))\n",
        "axes[1][0].matshow(np.sign(orig(inpt).numpy()).reshape((SAMPLE_SIZE,SAMPLE_SIZE)))\n",
        "axes[1][1].matshow(np.sign(noised(inpt).numpy()).reshape((SAMPLE_SIZE,SAMPLE_SIZE)))"
      ],
      "execution_count": null,
      "outputs": [
        {
          "output_type": "execute_result",
          "data": {
            "text/plain": [
              "<matplotlib.image.AxesImage at 0x7f85ca5a7630>"
            ]
          },
          "metadata": {
            "tags": []
          },
          "execution_count": 64
        },
        {
          "output_type": "display_data",
          "data": {
            "image/png": "[encoded data removed]",
            "text/plain": [
              "<Figure size 720x720 with 4 Axes>"
            ]
          },
          "metadata": {
            "tags": [],
            "needs_background": "light"
          }
        }
      ]
    },
    {
      "cell_type": "markdown",
      "metadata": {
        "id": "ehBxSbmY4LNl",
        "colab_type": "text"
      },
      "source": [
        "##Conclusions\n",
        "\n",
        "1. Independently sampled pairs of neural nets seem to have normally distributed function distances.\n",
        "2. Small neural nets tested here seem to experience threshold phenomenon on a logarithmic plot with weight-noise stability up to a threshold and then loss of stability.\n",
        "3. Adding noise to the weights can produce two nets with functions with higher f-distance than randomly sampling pairs of nets?\n",
        "4. Next: f-distance versus weight distance...\n"
      ]
    },
    {
      "cell_type": "code",
      "metadata": {
        "id": "Z52UTnBJ6MPI",
        "colab_type": "code",
        "colab": {}
      },
      "source": [
        ""
      ],
      "execution_count": null,
      "outputs": []
    }
  ]
}