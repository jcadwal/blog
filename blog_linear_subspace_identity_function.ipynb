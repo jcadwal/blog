{
  "nbformat": 4,
  "nbformat_minor": 0,
  "metadata": {
    "colab": {
      "name": "blog - linear subspace identity function",
      "provenance": [],
      "collapsed_sections": []
    },
    "kernelspec": {
      "name": "python3",
      "display_name": "Python 3"
    }
  },
  "cells": [
    {
      "cell_type": "markdown",
      "metadata": {
        "id": "Fy2bcSx_Ap1k",
        "colab_type": "text"
      },
      "source": [
        "# Training a matrix to be the identity function on a linear subspace\n",
        "\n",
        "1. Pick random basis vectors for a linear subspace\n",
        "2. Randomly sample elements of this subspace\n",
        "3. Train using gradient descent a matrix $M$ to be the identity matrix on this subspace.\n",
        "4. Visualize this matrix $M$\n",
        "5. Visualize $Mv$ for $v$ from the subspace\n",
        "6. Visualize $Mv$ for $v$ uniform random from $R^n$\n",
        "7. Visualize the eigenspectrum for $M$\n",
        "\n",
        "\n"
      ]
    },
    {
      "cell_type": "markdown",
      "metadata": {
        "id": "UfpiSOksBgcD",
        "colab_type": "text"
      },
      "source": [
        "## 1.-4."
      ]
    },
    {
      "cell_type": "code",
      "metadata": {
        "id": "ANvVDlia9ksy",
        "colab_type": "code",
        "colab": {
          "base_uri": "https://localhost:8080/",
          "height": 309
        },
        "outputId": "ed438d5e-8bd9-4f7a-c68e-bb2f2ed59d68"
      },
      "source": [
        "import numpy as np\n",
        "import tensorflow as tf\n",
        "import matplotlib.pyplot as plt\n",
        "\n",
        "#1.\n",
        "N = 15\n",
        "s = 5\n",
        "B = tf.random.uniform((N,s),minval=-1.,maxval=1.)\n",
        "\n",
        "#2.\n",
        "data = tf.matmul(B, tf.random.uniform((s,1000),minval=-1.,maxval=1.))\n",
        "\n",
        "#3.\n",
        "M = tf.Variable(tf.random.uniform((N,N),minval=-1.,maxval=1.),trainable=True)\n",
        "\n",
        "opt = tf.optimizers.RMSprop(1e-3)\n",
        "\n",
        "output = tf.matmul(M,data)\n",
        "error = tf.reduce_mean(tf.norm(output-data,axis=0))\n",
        "\n",
        "while error > 0.01:  \n",
        "  with tf.GradientTape() as tape:\n",
        "    output = tf.matmul(M,data)\n",
        "    error = tf.reduce_mean(tf.norm(output-data,axis=0))\n",
        "    g = tape.gradient(error, M)\n",
        "  opt.apply_gradients([(g,M)])\n",
        "\n",
        "\n",
        "print(error)\n",
        "plt.matshow(M.numpy())  \n"
      ],
      "execution_count": 34,
      "outputs": [
        {
          "output_type": "stream",
          "text": [
            "tf.Tensor(0.009930874, shape=(), dtype=float32)\n"
          ],
          "name": "stdout"
        },
        {
          "output_type": "execute_result",
          "data": {
            "text/plain": [
              "<matplotlib.image.AxesImage at 0x7f5194446dd8>"
            ]
          },
          "metadata": {
            "tags": []
          },
          "execution_count": 34
        },
        {
          "output_type": "display_data",
          "data": {
            "image/png": "[encoded data removed]",
            "text/plain": [
              "<Figure size 288x288 with 1 Axes>"
            ]
          },
          "metadata": {
            "tags": [],
            "needs_background": "light"
          }
        }
      ]
    },
    {
      "cell_type": "markdown",
      "metadata": {
        "id": "OxfdOmo9EP-5",
        "colab_type": "text"
      },
      "source": [
        "## 5.-6."
      ]
    },
    {
      "cell_type": "code",
      "metadata": {
        "id": "qJpgrxmQETvT",
        "colab_type": "code",
        "colab": {
          "base_uri": "https://localhost:8080/",
          "height": 521
        },
        "outputId": "851fe452-84be-40de-e150-d2d7a795850b"
      },
      "source": [
        "data = tf.matmul(B, tf.random.uniform((s,30),minval=-1.,maxval=1.))\n",
        "output = tf.matmul(M, data)\n",
        "\n",
        "fig, axes = plt.subplots(2,1)\n",
        "axes[0].matshow(data)\n",
        "axes[1].matshow(output)\n",
        "plt.show()\n",
        "\n",
        "\n",
        "rdata = tf.random.uniform((15,30),minval=-1.,maxval=1.)\n",
        "routput = tf.matmul(M, rdata)\n",
        "\n",
        "fig, axes = plt.subplots(2,1)\n",
        "axes[0].matshow(rdata)\n",
        "axes[1].matshow(routput)\n",
        "plt.show()"
      ],
      "execution_count": 35,
      "outputs": [
        {
          "output_type": "display_data",
          "data": {
            "image/png": "[encoded data removed]",
            "text/plain": [
              "<Figure size 432x288 with 2 Axes>"
            ]
          },
          "metadata": {
            "tags": [],
            "needs_background": "light"
          }
        },
        {
          "output_type": "display_data",
          "data": {
            "image/png": "[encoded data removed]",
            "text/plain": [
              "<Figure size 432x288 with 2 Axes>"
            ]
          },
          "metadata": {
            "tags": [],
            "needs_background": "light"
          }
        }
      ]
    },
    {
      "cell_type": "markdown",
      "metadata": {
        "id": "3Ux62iK3FYZH",
        "colab_type": "text"
      },
      "source": [
        "##7."
      ]
    },
    {
      "cell_type": "code",
      "metadata": {
        "id": "FDM7Id2nFZRp",
        "colab_type": "code",
        "colab": {
          "base_uri": "https://localhost:8080/",
          "height": 282
        },
        "outputId": "9e50167c-f065-4638-8f94-0f83f8523dfc"
      },
      "source": [
        "evals, evecs = tf.eig(M)\n",
        "# print(evals,evecs)\n",
        "plt.plot(tf.sort(tf.math.real(evals)),marker='o')"
      ],
      "execution_count": 36,
      "outputs": [
        {
          "output_type": "execute_result",
          "data": {
            "text/plain": [
              "[<matplotlib.lines.Line2D at 0x7f51947454e0>]"
            ]
          },
          "metadata": {
            "tags": []
          },
          "execution_count": 36
        },
        {
          "output_type": "display_data",
          "data": {
            "image/png": "[encoded data removed]",
            "text/plain": [
              "<Figure size 432x288 with 1 Axes>"
            ]
          },
          "metadata": {
            "tags": [],
            "needs_background": "light"
          }
        }
      ]
    }
  ]
}